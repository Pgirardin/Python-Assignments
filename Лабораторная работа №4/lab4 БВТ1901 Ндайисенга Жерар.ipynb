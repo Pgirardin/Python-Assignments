{
 "cells": [
  {
   "cell_type": "markdown",
   "id": "visible-venezuela",
   "metadata": {},
   "source": [
    "# Лабораторная работа №4\n",
    "## Выполнил Студенты БВТ1901 Ндайисенга Жерар\n",
    "\n",
    "# Реализовать следующие структуры данных:\n",
    "\n",
    "# **Стек (stack)**:  \n",
    "*операции для стека:* \n",
    "инициализация, проверка на пустоту, добавление\n",
    "нового элемента в начало, извлечение элемента из начала;\n",
    "\n",
    "# **Дек (двусторонняя очередь, deque):**   \n",
    "*операции для дека:* инициализация, проверка на пустоту, добавление\n",
    "нового элемента в начало, добавление нового элемента в конец,\n",
    "извлечение элемента из начала, извлечение элемента из конца.\n"
   ]
  },
  {
   "cell_type": "markdown",
   "id": "uniform-equilibrium",
   "metadata": {},
   "source": [
    "#### Стэк"
   ]
  },
  {
   "cell_type": "code",
   "execution_count": 1,
   "id": "bronze-independence",
   "metadata": {},
   "outputs": [],
   "source": [
    "class LinkedList:\n",
    "    def __init__(self, value=None):\n",
    "        self.value = value\n",
    "        self.right = None\n",
    "        self.left = None"
   ]
  },
  {
   "cell_type": "code",
   "execution_count": 2,
   "id": "governing-mexican",
   "metadata": {},
   "outputs": [],
   "source": [
    "class Stack:\n",
    "    # Конструктор стека\n",
    "    def __init__(self):\n",
    "        self.top = LinkedList()\n",
    "        self.size = 0\n",
    "        \n",
    "    # Длина стека\n",
    "    def __len__(self):\n",
    "        return self.size\n",
    "    \n",
    "    # Метод для вывода стека\n",
    "    def __str__(self):\n",
    "        return f\"Stack: {self.top}\"\n",
    "\n",
    "    # Проверка на наличие в стеке элементов\n",
    "    def isEmpty(self):\n",
    "        return self.size == 0\n",
    "    \n",
    "    # Положить элемент в начало\n",
    "    def push(self, value):\n",
    "        if self.size > 0:\n",
    "            node = LinkedList(value)\n",
    "            node.right = self.top\n",
    "            self.top = node\n",
    "        else:\n",
    "            self.top.value = value\n",
    "        self.size += 1\n",
    "    \n",
    "    # Удалить элемент\n",
    "    def pop(self):\n",
    "        if self.isEmpty():\n",
    "            return(\"Стэк пустой\")\n",
    "        remove = self.top\n",
    "        if self.size > 1:\n",
    "            self.top = remove.right\n",
    "        self.size -= 1\n",
    "        return remove.value\n",
    "    \n",
    "    # Посмотреть значение\n",
    "    def peek(self):\n",
    "        if self.isEmpty():\n",
    "            return(\"Стэк пустой\")\n",
    "        return self.top.value\n",
    "    \n",
    "    #Развернуть стек\n",
    "    def reverse(self):\n",
    "        current = self.top\n",
    "        prev = None\n",
    "        nex = None\n",
    "        while current is not None:\n",
    "            nex = current.right\n",
    "            current.right = prev\n",
    "            prev = current\n",
    "            current = nex\n",
    "\n",
    "        self.top = prev"
   ]
  },
  {
   "cell_type": "markdown",
   "id": "tight-presence",
   "metadata": {},
   "source": [
    "#### Дэк"
   ]
  },
  {
   "cell_type": "code",
   "execution_count": 3,
   "id": "dietary-commission",
   "metadata": {},
   "outputs": [],
   "source": [
    "class Deque:\n",
    "    # Констуркутор дека\n",
    "    def __init__(self):\n",
    "        self.top = LinkedList()\n",
    "        self.bottom = self.top\n",
    "        self.size = 0\n",
    "        \n",
    "    # Узнать длину дека\n",
    "    def __len__(self):\n",
    "        return self.size\n",
    "    \n",
    "    # Проверить наличие в нем элементов\n",
    "    def isEmpty(self):\n",
    "        return self.size == 0\n",
    "    \n",
    "    # Положить слева\n",
    "    def pushLeft(self, value):\n",
    "        if self.size > 0:\n",
    "            a = LinkedList(value)\n",
    "            a.right = self.bottom\n",
    "            self.bottom.left = a\n",
    "            self.bottom = a\n",
    "        else:\n",
    "            self.bottom.value = value\n",
    "        self.size += 1\n",
    "        \n",
    "    # Положить справа\n",
    "    def pushRight(self, value):\n",
    "        if self.size > 0:\n",
    "            a = LinkedList(value)\n",
    "            a.left = self.top\n",
    "            self.top.right = a\n",
    "            self.top = a\n",
    "        else:\n",
    "            self.top.value = value\n",
    "        self.size += 1\n",
    "        \n",
    "    # Удалить слева\n",
    "    def popLeft(self):\n",
    "        if self.isEmpty():\n",
    "            return('Пустой дэк')\n",
    "        remove = self.bottom\n",
    "        if self.size > 1:\n",
    "            self.bottom = remove.right\n",
    "        self.size -= 1\n",
    "        return remove.value\n",
    "    \n",
    "    # Удалить справа\n",
    "    def popRight(self):\n",
    "        if self.isEmpty():\n",
    "            return('Пустой дэк')\n",
    "        remove = self.top\n",
    "        if self.size > 1:\n",
    "            self.top = remove.left\n",
    "        self.size -= 1\n",
    "        return remove.value\n",
    "    \n",
    "    # Посмотреть значение справа\n",
    "    def peekRight(self):\n",
    "        if self.isEmpty():\n",
    "            return('Пустой дэк')\n",
    "        return self.top.value\n",
    "    \n",
    "    # Посмотреть значение справа\n",
    "    def peekLeft(self):\n",
    "        if self.isEmpty():\n",
    "            return('Пустой дэк')\n",
    "        return self.bottom.value"
   ]
  },
  {
   "cell_type": "markdown",
   "id": "integral-solid",
   "metadata": {},
   "source": [
    "### Задача 1\n",
    "Отсортировать строки файла, содержащие названия книг, в алфавитном порядке с использованием двух *деков*."
   ]
  },
  {
   "cell_type": "code",
   "execution_count": 26,
   "id": "supposed-rolling",
   "metadata": {},
   "outputs": [
    {
     "name": "stdout",
     "output_type": "stream",
     "text": [
      "chantal\n",
      "\n",
      "duy\n",
      "\n",
      "dyor\n",
      "\n",
      "gerard\n",
      "\n",
      "innocent\n",
      "\n",
      "jino\n",
      "\n",
      "king\n",
      "\n",
      "kipo\n",
      "\n",
      "pup\n",
      "\n",
      "tito\n",
      "\n",
      "tiyo\n",
      "\n",
      "vianney\n",
      "\n"
     ]
    }
   ],
   "source": [
    "with open('Лаб4_Исходники/books.txt', 'r') as books:\n",
    "    d1 = Deque()\n",
    "    d2 = Deque()\n",
    "    for book in books:\n",
    "        d1.pushRight(book)\n",
    "    while not d1.isEmpty():\n",
    "        a = d1.popRight()\n",
    "        while not d2.isEmpty() and d2.peekRight() > a:\n",
    "            d1.pushLeft(d2.popRight())\n",
    "        d2.pushRight(a)\n",
    "    while not d2.isEmpty():\n",
    "        print(d2.popLeft())"
   ]
  },
  {
   "cell_type": "markdown",
   "id": "checked-dietary",
   "metadata": {},
   "source": [
    "### Задача 2\n",
    "Дек содержит последовательность символов для шифровки сообщений. Дан текстовый файл, содержащий зашифрованное сообщение. Пользуясь деком, расшифровать текст.  \n",
    "Известно, что при шифровке каждый символ сообщения заменялся следующим за ним в деке по часовой стрелке через один."
   ]
  },
  {
   "cell_type": "code",
   "execution_count": 5,
   "id": "annual-joseph",
   "metadata": {},
   "outputs": [],
   "source": [
    "a = list('абвгдеёжзийклмнопрстуфхцчшщъыьэюя')\n",
    "pattern = Deque()\n",
    "for letter in a:\n",
    "    pattern.pushRight(letter)"
   ]
  },
  {
   "cell_type": "code",
   "execution_count": 6,
   "id": "different-weapon",
   "metadata": {},
   "outputs": [
    {
     "name": "stdout",
     "output_type": "stream",
     "text": [
      "никакого компромисса даже перед лицом армагеддона\n"
     ]
    }
   ],
   "source": [
    "def decode(char):\n",
    "    for x in range(len(pattern)):\n",
    "        a = pattern.popRight()\n",
    "        if a == char:\n",
    "            pattern.pushLeft(a)\n",
    "            decodedA = pattern.popRight()\n",
    "            pattern.pushLeft(decodedA)\n",
    "            return decodedA\n",
    "        pattern.pushLeft(a)\n",
    "        \n",
    "#       никакого компромисса даже перед лицом армагеддона      \n",
    "text = 'ойлблпдп лпнрспнйттб ебзё рёсёе мйчпн бснбдёеепоб'\n",
    "decoded = ''\n",
    "\n",
    "for letter in text:\n",
    "    decoded_letter = decode(letter)\n",
    "    if decoded_letter == None:\n",
    "        decoded += ' '\n",
    "    else:\n",
    "        decoded += decoded_letter\n",
    "\n",
    "print(decoded)"
   ]
  },
  {
   "cell_type": "markdown",
   "id": "noted-hamburg",
   "metadata": {},
   "source": [
    "### Задача 3\n",
    "Даны три стержня и n дисков различного размера. Диски можно надевать на\n",
    "стержни, образуя из них башни.  \n",
    "Перенести n дисков со стержня А на стержень С,\n",
    "сохранив их первоначальный порядок.  \n",
    "При переносе дисков необходимо соблюдать\n",
    "следующие правила:\n",
    "- на каждом шаге со стержня на стержень переносить только один диск;\n",
    "- диск нельзя помещать на диск меньшего размера;\n",
    "- для промежуточного хранения можно использовать стержень В.  \n",
    "\n",
    "Реализовать алгоритм, используя три стека вместо стержней А, В, С."
   ]
  },
  {
   "cell_type": "code",
   "execution_count": 7,
   "id": "single-sperm",
   "metadata": {},
   "outputs": [
    {
     "name": "stdin",
     "output_type": "stream",
     "text": [
      "Введите количество дисков:  10\n"
     ]
    },
    {
     "name": "stdout",
     "output_type": "stream",
     "text": [
      "1\n",
      "2\n",
      "3\n",
      "4\n",
      "5\n",
      "6\n",
      "7\n",
      "8\n",
      "9\n",
      "10\n"
     ]
    }
   ],
   "source": [
    "A = Stack()\n",
    "B = Stack()\n",
    "C = Stack()\n",
    "\n",
    "n = int(input('Введите количество дисков: '))\n",
    "for i in range(n, 0, -1):\n",
    "    A.push(i)\n",
    "    \n",
    "def move(a, b):\n",
    "    # Перенести можно только если один из шестов пустой\n",
    "    if len(a) == 0 and len(b) > 0:\n",
    "        a.push(b.pop())\n",
    "    elif len(a) > 0 and len(b) == 0:\n",
    "        b.push(a.pop())\n",
    "    # Или если на одном из шестов верхнее значение больше переносимого\n",
    "    elif a.peek() > b.peek():\n",
    "        a.push(b.pop())\n",
    "    else:\n",
    "        b.push(a.pop())\n",
    "\n",
    "if n % 2 == 0:\n",
    "    while len(C) != n:\n",
    "        move(A, B)\n",
    "        move(A, C)\n",
    "        move(B, C)\n",
    "else:\n",
    "    while len(C) != n:\n",
    "        move(A, C)\n",
    "        move(A, B)\n",
    "        move(B, C)\n",
    "\n",
    "while not C.isEmpty():\n",
    "    print(C.pop())"
   ]
  },
  {
   "cell_type": "markdown",
   "id": "controlled-toddler",
   "metadata": {},
   "source": [
    "### Задача 4\n",
    "Дан текстовый файл с программой на алгоритмическом языке. За один просмотр\n",
    "файла проверить баланс круглых скобок в тексте, используя стек."
   ]
  },
  {
   "cell_type": "code",
   "execution_count": 8,
   "id": "understood-sellers",
   "metadata": {},
   "outputs": [
    {
     "name": "stdout",
     "output_type": "stream",
     "text": [
      "Нехватка скобок\n"
     ]
    }
   ],
   "source": [
    "check = Stack() \n",
    "a = 0\n",
    "with open('Лаб4_Исходники/brackets.txt', 'r') as brackets: \n",
    "    while True:\n",
    "        char = brackets.read(1)\n",
    "        if not char:\n",
    "            break\n",
    "        # Если элемент открытая скобка, то добавляем ее в стек\n",
    "        if char == '(':\n",
    "            check.push(char)\n",
    "        # Если элемет закрытая скобка, то, если до этого стек был пустой, то сообщаем о нехватке скобок\n",
    "        # Иначе добавляем в стек \n",
    "        elif char == ')':\n",
    "            if check.isEmpty():\n",
    "                print('Нехватка скобок')\n",
    "                a = 1\n",
    "                break\n",
    "            check.pop()\n",
    "                \n",
    "if a != 1 and len(check) == 0:\n",
    "    print(\"Все хорошо\")\n",
    "elif len(check) > 0 and check.peek() == \"(\":\n",
    "    print('Нехватка скобок')"
   ]
  },
  {
   "cell_type": "markdown",
   "id": "unlikely-container",
   "metadata": {},
   "source": [
    "### Задача 5\n",
    "Дан текстовый файл с программой на алгоритмическом языке.  \n",
    "За один просмотр файла проверить баланс квадратных скобок в тексте, используя дек."
   ]
  },
  {
   "cell_type": "code",
   "execution_count": 9,
   "id": "unknown-lease",
   "metadata": {},
   "outputs": [
    {
     "name": "stdout",
     "output_type": "stream",
     "text": [
      "Все хорошо\n"
     ]
    }
   ],
   "source": [
    "check = Deque()\n",
    "\n",
    "with open('Лаб4_Исходники/squareBrackets.txt', 'r') as brackets:    \n",
    "    while True:\n",
    "        char = brackets.read(1)\n",
    "        if not char:\n",
    "            break\n",
    "        # Если нашли открытую скобку, то добавляем ее справа\n",
    "        if char == '[':\n",
    "            check.pushRight(char)\n",
    "        # Иначе если нашли закрытую и дек пустой, то останавливем цикл\n",
    "        # После чего удаляем элемент, который добавили\n",
    "        elif char == ']':\n",
    "            if check.isEmpty():\n",
    "                break\n",
    "            check.popRight()\n",
    "            \n",
    "if check.isEmpty():\n",
    "    print(\"Все хорошо\")\n",
    "else:\n",
    "    print('Нехватка скобок')"
   ]
  },
  {
   "cell_type": "markdown",
   "id": "sitting-lyric",
   "metadata": {},
   "source": [
    "# Задача 6\n",
    "Дан файл из символов.  \n",
    "Используя стек, за один просмотр файла напечатать **сначала все цифры, затем все буквы, и, наконец, все ## остальные символы**, сохраняя\n",
    "исходный порядок в каждой группе символов.\n"
   ]
  },
  {
   "cell_type": "code",
   "execution_count": 10,
   "id": "sought-petroleum",
   "metadata": {},
   "outputs": [
    {
     "name": "stdout",
     "output_type": "stream",
     "text": [
      "196236432790qwezrtyuiopasdfghjklzxfvbnm/'=-,./\n",
      "\n"
     ]
    }
   ],
   "source": [
    "letters = Stack()  \n",
    "digits = Stack()\n",
    "others = Stack()\n",
    "result = ''\n",
    "\n",
    "with open('Лаб4_Исходники/chars.txt', 'r') as f:\n",
    "    while True:\n",
    "        c = f.read(1)\n",
    "        if not c:\n",
    "            break   \n",
    "        if c.isalpha():\n",
    "            letters.push(c)\n",
    "        elif c.isdigit():\n",
    "            digits.push(c)\n",
    "        else:\n",
    "            others.push(c)\n",
    "            \n",
    "    letters.reverse()\n",
    "    digits.reverse()\n",
    "    others.reverse()   \n",
    "    \n",
    "    while not digits.isEmpty():\n",
    "        result += digits.pop()\n",
    "    while not letters.isEmpty():\n",
    "        result += letters.pop()\n",
    "    while not others.isEmpty():\n",
    "        result += others.pop()\n",
    "            \n",
    "print(result)"
   ]
  },
  {
   "cell_type": "markdown",
   "id": "returning-protocol",
   "metadata": {},
   "source": [
    "### Задача 7\n",
    "Дан файл из целых чисел. Используя дек, за один просмотр файла напечатать сначала все отрицательные числа, затем все положительные числа, сохраняя исходный порядок в каждой группе."
   ]
  },
  {
   "cell_type": "code",
   "execution_count": 11,
   "id": "christian-clinton",
   "metadata": {},
   "outputs": [
    {
     "name": "stdout",
     "output_type": "stream",
     "text": [
      "[-5, 7, 10, -16, 1, 0, 10, -10, 5, 3, 1, -11]\n",
      "-5\n",
      "-16\n",
      "-10\n",
      "-11\n",
      "7\n",
      "10\n",
      "\n",
      "1\n",
      "\n",
      "0\n",
      "\n",
      "10\n",
      "\n",
      "5\n",
      "\n",
      "3\n",
      "\n",
      "1\n"
     ]
    }
   ],
   "source": [
    "with open('Лаб4_Исходники/numbers.txt', 'r') as numbers:\n",
    "    d = Deque()\n",
    "    arr = []\n",
    "    for number in numbers:\n",
    "        arr.append(int(number))\n",
    "        if int(number) < 0:\n",
    "            d.pushLeft(number)\n",
    "        else:\n",
    "            d.pushRight(number)\n",
    "    print(arr)    \n",
    "    while not d.isEmpty():\n",
    "        x = int(d.popLeft().strip())\n",
    "        if x < 0:\n",
    "            d.pushRight(x)\n",
    "        else:\n",
    "            d.pushLeft(x)\n",
    "            break\n",
    "\n",
    "    while not d.isEmpty():\n",
    "        x = int(d.popRight())\n",
    "        if x < 0:\n",
    "            print(x)\n",
    "        else:\n",
    "            d.pushRight(x)\n",
    "            break\n",
    "\n",
    "    while not d.isEmpty():\n",
    "        print(d.popLeft())"
   ]
  },
  {
   "cell_type": "markdown",
   "id": "ecological-compact",
   "metadata": {},
   "source": [
    "### Задача 8\n",
    "Дан текстовый файл. Используя стек, сформировать новый текстовый файл, содержащий строки исходного файла, записанные в обратном порядке: первая строка становится последней, вторая – предпоследней и т.д."
   ]
  },
  {
   "cell_type": "code",
   "execution_count": 25,
   "id": "fatal-heritage",
   "metadata": {},
   "outputs": [],
   "source": [
    "with open('Лаб4_Исходники/ttext.txt', 'r') as text:\n",
    "    s = Stack()\n",
    "    for line in text:\n",
    "        s.push(line.strip())\n",
    "        \n",
    "f = open('Лаб4_Исходники/tText.txt', 'w')\n",
    "while not s.isEmpty():\n",
    "    f.write(s.pop() + '\\n')\n",
    "f.close()"
   ]
  },
  {
   "cell_type": "markdown",
   "id": "institutional-links",
   "metadata": {},
   "source": [
    "### Задача 9\n",
    "Дан текстовый файл. Используя стек, вычислить значение логического выражения, записанного в текстовом файле в следующей форме: \n",
    "\n",
    "    <ЛВ> :: = T | F | (N <ЛВ>) | (<ЛВ> A <ЛВ>) | (<ЛВ> X <ЛВ>) | (<ЛВ> O <ЛВ>),  \n",
    "где буквами обозначены логические константы и операции:\n",
    "\n",
    "    T – True, F – False, N – Not, A – And, X – Xor, O – Or."
   ]
  },
  {
   "cell_type": "code",
   "execution_count": 14,
   "id": "unique-desperate",
   "metadata": {},
   "outputs": [
    {
     "name": "stdout",
     "output_type": "stream",
     "text": [
      "T\n"
     ]
    }
   ],
   "source": [
    "text = '((T)XF)O((TAT)OF)'\n",
    "\n",
    "opstack = Stack()\n",
    "vstack = Stack()\n",
    "\n",
    "cur = 0\n",
    "while True:\n",
    "    read = False\n",
    "    if not opstack.isEmpty():\n",
    "        if opstack.peek() == 'N':\n",
    "            if vstack.isEmpty():\n",
    "                read = True\n",
    "            else:\n",
    "                if vstack.pop() == 'T':\n",
    "                    vstack.push('F')\n",
    "                else:\n",
    "                    vstack.push('T')\n",
    "                opstack.pop()\n",
    "        elif opstack.peek() == 'A':\n",
    "            if len(vstack) < 2:\n",
    "                read = True\n",
    "            else:\n",
    "                a = vstack.pop()\n",
    "                b = vstack.pop()\n",
    "                if a == b and b == 'T':\n",
    "                    vstack.push('T')\n",
    "                else:\n",
    "                    vstack.push('F')\n",
    "                opstack.pop()\n",
    "        elif opstack.peek() == 'O':\n",
    "            if len(vstack) < 2:\n",
    "                read = True\n",
    "            else:\n",
    "                a = vstack.pop()\n",
    "                b = vstack.pop()\n",
    "                if a == 'T' or b == 'T':\n",
    "                    vstack.push('T')\n",
    "                else:\n",
    "                    vstack.push('F')\n",
    "                opstack.pop()\n",
    "        elif opstack.peek() == 'X':\n",
    "            if len(vstack) < 2:\n",
    "                read = True\n",
    "            else:\n",
    "                a = vstack.pop()\n",
    "                b = vstack.pop()\n",
    "                if a != b:\n",
    "                    vstack.push('T')\n",
    "                else:\n",
    "                    vstack.push('F')\n",
    "                opstack.pop()\n",
    "        elif opstack.peek() == '(':\n",
    "            read = True\n",
    "        elif opstack.peek() == ')':\n",
    "            opstack.pop()\n",
    "            opstack.pop()\n",
    "    else:\n",
    "        read = True\n",
    "    if read:\n",
    "        i = text[cur]\n",
    "        if i in 'FT':\n",
    "            vstack.push(i)\n",
    "        if i in 'AXON()':\n",
    "            opstack.push(i)\n",
    "        cur += 1\n",
    "    \n",
    "\n",
    "    if cur == len(text) and len(opstack) == 0:\n",
    "        break\n",
    "\n",
    "while not vstack.isEmpty():\n",
    "    print(vstack.pop())"
   ]
  },
  {
   "cell_type": "markdown",
   "id": "bored-pharmacy",
   "metadata": {},
   "source": [
    "### Задача 10\n",
    "Дан текстовый файл. В текстовом файле записана формула следующего вида:\n",
    "\n",
    "    <Формула> ::= <Цифра> | M(<Формула>,<Формула>) | N(Формула>,<Формула>)\n",
    "    <Цифра> ::= 0 | 1 | 2 | 3 | 4 | 5 | 6 | 7 | 8 | 9\n",
    "где буквами обозначены функции:\n",
    "\n",
    "    M – определение максимума, N – определение минимума.\n",
    "Используя стек, вычислить значение заданного выражения."
   ]
  },
  {
   "cell_type": "code",
   "execution_count": 15,
   "id": "tropical-uncle",
   "metadata": {},
   "outputs": [
    {
     "name": "stdout",
     "output_type": "stream",
     "text": [
      "5\n"
     ]
    }
   ],
   "source": [
    "text = 'N(5, M(4, N(8, M(7, 5))'\n",
    "\n",
    "op = Stack()\n",
    "nums = Stack()\n",
    "\n",
    "num = ''\n",
    "\n",
    "cur = 0\n",
    "while cur < len(text):\n",
    "    i = text[cur]\n",
    "    if i.isdigit():\n",
    "        num += i\n",
    "    elif num != '':\n",
    "        nums.push(int(num))\n",
    "        num = ''\n",
    "    if i in 'MN':\n",
    "        op.push(i)\n",
    "    cur += 1\n",
    "\n",
    "while not op.isEmpty():\n",
    "    a = nums.pop()\n",
    "    b = nums.pop()\n",
    "    if a < b:\n",
    "        a,b = b,a\n",
    "    if op.pop() == 'M':\n",
    "        nums.push(a)\n",
    "    else:\n",
    "        nums.push(b)\n",
    "\n",
    "while not nums.isEmpty():\n",
    "    print(nums.pop())"
   ]
  },
  {
   "cell_type": "markdown",
   "id": "moving-quantum",
   "metadata": {},
   "source": [
    "### Задача 11\n",
    "Дан текстовый файл. Используя стек, проверить, является ли содержимое текстового файла правильной записью формулы вида:\n",
    "\n",
    "    < Формула > ::= < Терм > | < Терм > + < Формула > | < Терм > - < Формула >\n",
    "    < Терм > ::= < Имя > | (< Формула >)\n",
    "    < Имя > ::= x | y | z"
   ]
  },
  {
   "cell_type": "code",
   "execution_count": 16,
   "id": "roman-portrait",
   "metadata": {},
   "outputs": [
    {
     "data": {
      "text/plain": [
       "True"
      ]
     },
     "execution_count": 16,
     "metadata": {},
     "output_type": "execute_result"
    }
   ],
   "source": [
    "def check(text):\n",
    "    stack = Stack()\n",
    "\n",
    "    cur = 0\n",
    "    while True:\n",
    "        read = False\n",
    "        if not stack.isEmpty():\n",
    "            if stack.peek() == '(':\n",
    "                read = True\n",
    "            elif stack.peek() == ')':\n",
    "                stack.pop()\n",
    "                if len(stack) < 2 or stack.pop() != 'formula' or stack.pop() != '(':\n",
    "                    return False\n",
    "                stack.push('formula')\n",
    "            elif stack.peek() == 'formula':\n",
    "                stack.pop()\n",
    "                if len(stack) > 1 and stack.peek() in '+-':\n",
    "                    if stack.pop() in '+-' and stack.pop() == 'formula':\n",
    "                        stack.push('formula')\n",
    "                    else:\n",
    "                        return False\n",
    "                else:\n",
    "                    stack.push('formula')\n",
    "                    read = True\n",
    "            else:\n",
    "                read = True\n",
    "        else:\n",
    "            read = True\n",
    "        if read:\n",
    "            i = text[cur]\n",
    "            if i in 'xyz':\n",
    "                stack.push('formula')\n",
    "            elif i in '()+-':\n",
    "                stack.push(i)\n",
    "            cur += 1\n",
    "        if cur == len(text) and len(stack) == 1:\n",
    "            break\n",
    "    return True\n",
    "\n",
    "check('((x + y) + (x - y) + z)')"
   ]
  },
  {
   "cell_type": "code",
   "execution_count": null,
   "id": "signal-savannah",
   "metadata": {},
   "outputs": [],
   "source": [
    "#Вывод\n",
    "Изучили реализацию таких структур данных, как стек (stack) и дек (deque), \n",
    "разработали программы обработки данных, содержащихся в заранее подготовленном txt-файле.\n"
   ]
  }
 ],
 "metadata": {
  "kernelspec": {
   "display_name": "Python 3",
   "language": "python",
   "name": "python3"
  },
  "language_info": {
   "codemirror_mode": {
    "name": "ipython",
    "version": 3
   },
   "file_extension": ".py",
   "mimetype": "text/x-python",
   "name": "python",
   "nbconvert_exporter": "python",
   "pygments_lexer": "ipython3",
   "version": "3.8.5"
  }
 },
 "nbformat": 4,
 "nbformat_minor": 5
}
