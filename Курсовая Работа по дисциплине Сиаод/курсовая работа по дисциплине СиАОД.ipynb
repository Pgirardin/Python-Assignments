{
 "cells": [
  {
   "cell_type": "code",
   "execution_count": null,
   "id": "correct-polymer",
   "metadata": {},
   "outputs": [],
   "source": [
    "#КУРСОВАЯ РАБОТА ПО ДИСЦИПЛИНЕ СИАОД"
   ]
  },
  {
   "cell_type": "code",
   "execution_count": null,
   "id": "contemporary-spine",
   "metadata": {},
   "outputs": [],
   "source": [
    "## ВЫПОЛНИЛ СТУДЕНТ ПРУППЫ БВТ1901 НДАЙИСЕНГА ЖЕРАР"
   ]
  },
  {
   "cell_type": "code",
   "execution_count": null,
   "id": "falling-dublin",
   "metadata": {},
   "outputs": [],
   "source": [
    "### ЗАДАНИЕ №1"
   ]
  },
  {
   "cell_type": "code",
   "execution_count": null,
   "id": "final-massage",
   "metadata": {},
   "outputs": [],
   "source": [
    "#\"\"\"\n",
    "Задача 1. «Треугольник с максимальным периметром»\n",
    "Массив A состоит из целых положительных чисел-длин отрезков. Составьте из трех отрезков такой треугольник, чтобы его периметр был максимально возможным. Если невозможно\n",
    "составить треугольник с положительной площадью - функция возвращает 0.\n",
    "Пример 1.1:\n",
    "Ввод: [2,1,2]\n",
    "Вывод: 5\n",
    "    \n",
    "Пример 1.2:   \n",
    "Ввод: [1,2,1]\n",
    "Вывод: 0\n",
    "    \n",
    "Пример 1.3:\n",
    "Ввод: [3,2,3,4]\n",
    "Вывод: 10\n",
    "    \n",
    "Пример 1.4:\n",
    "Ввод: [3,6,2,3]\n",
    "Вывод: 8\n",
    "Ограничения:\n",
    "#\"\"\""
   ]
  },
  {
   "cell_type": "code",
   "execution_count": 2,
   "id": "constitutional-increase",
   "metadata": {},
   "outputs": [
    {
     "name": "stdout",
     "output_type": "stream",
     "text": [
      "Maximum Perimeter is: 10\n"
     ]
    }
   ],
   "source": [
    "\n",
    "def maxPerimeter(arr): \n",
    "\tmaxi = 0\n",
    "\tn = len(arr) \n",
    "\t\n",
    "\t# pick up 3 dffrt \n",
    "\t# elements from the array.\n",
    "\tfor i in range(n - 2): \n",
    "\t\tfor j in range(i + 1, n - 1): \n",
    "\t\t\tfor k in range(j + 1, n): \n",
    "\t\t\t\t\n",
    "\t\t\t\t# a, b, c are 3 sides \n",
    "\t\t\t\t# of the triangle \n",
    "\t\t\t\ta = arr[i] \n",
    "\t\t\t\tb = arr[j] \n",
    "\t\t\t\tc = arr[k] \n",
    "\t\t\t\tif(a < b + c and b < a + c \n",
    "\t\t\t\t\t\t\tand c < a + b): \n",
    "\t\t\t   \t\t\t\tmaxi = max(maxi, a + b + c) \n",
    "\n",
    "\tif(maxi == 0): \n",
    "\t\treturn \"0\"\n",
    "\telse: \n",
    "\t\treturn \"Maximum Perimeter is: \"+ str(maxi) \n",
    " \n",
    "def main(): \n",
    "\tarr1 = [3,2,3,4] \n",
    "\ta = maxPerimeter(arr1) \n",
    "\tprint(a) \n",
    "\n",
    "\t\n",
    "\n",
    "if __name__=='__main__': \n",
    "\tmain() \n",
    "\n"
   ]
  },
  {
   "cell_type": "code",
   "execution_count": null,
   "id": "negative-christmas",
   "metadata": {},
   "outputs": [],
   "source": [
    "### ЗАДАНИЕ №2  «Максимальное число»"
   ]
  },
  {
   "cell_type": "code",
   "execution_count": null,
   "id": "dated-reserve",
   "metadata": {},
   "outputs": [],
   "source": [
    "#\"\"\"\n",
    "Дан массив неотрицательных целых чисел nums. Расположите их в таком порядке, чтобы\n",
    "вместе они образовали максимально возможное число.\n",
    "Замечание: Результат может быть очень большим числом, поэтому представьте его как\n",
    "string, а не integer.\n",
    "Пример 2.1:\n",
    "Ввод: nums = [10,2]\n",
    "Вывод: ”210”\n",
    "    \n",
    "Пример 2.2:\n",
    "Ввод: nums = [3,30,34,5,9]\n",
    "Вывод: ”9534330”\n",
    "    \n",
    "Пример 2.3:\n",
    "Ввод: nums = [1]\n",
    "Вывод: ”1”\n",
    "    \n",
    "Пример 2.4:\n",
    "Ввод: nums = [10]\n",
    "Вывод: ”10”\n",
    "#\"\"\""
   ]
  },
  {
   "cell_type": "code",
   "execution_count": 2,
   "id": "married-bowling",
   "metadata": {},
   "outputs": [
    {
     "name": "stdout",
     "output_type": "stream",
     "text": [
      "9534330\n"
     ]
    }
   ],
   "source": [
    "def largestNumber(array): \n",
    "\textval, ans = [], \"\" \n",
    "\t \n",
    "\tl = len(str(max(array))) + 1\n",
    "\tfor i in array: \n",
    "\t\ttemp = str(i) * l \n",
    "\t\textval.append((temp[:l:], i)) \n",
    "\t \n",
    "\textval.sort(reverse = True) \n",
    "\t\n",
    "\tfor i in extval: \n",
    "\t\t\n",
    "\t\tans += str(i[1]) \n",
    "\n",
    "\tif int(ans)==0: \n",
    "\t\treturn \"0\"\n",
    "\treturn ans \n",
    "\n",
    "a = [3,30,34,5,9] \n",
    "\n",
    "print(largestNumber(a)) \n"
   ]
  },
  {
   "cell_type": "code",
   "execution_count": null,
   "id": "varied-flood",
   "metadata": {},
   "outputs": [],
   "source": [
    "### ЗАДАНИЕ №3 «Сортировка диагоналей в матрице»"
   ]
  },
  {
   "cell_type": "code",
   "execution_count": null,
   "id": "regular-visibility",
   "metadata": {},
   "outputs": [],
   "source": [
    "#Дана матрица mat размером m * n, значения  целочисленные. Напишите функцию, сортирующую\n",
    "#каждую диагональ матрицы по возрастанию и возвращающую получившуюся матрицу.\n"
   ]
  },
  {
   "attachments": {
    "470e6087-114e-4da3-81fb-72d9dd07c359.png": {
     "image/png": "[encoded data removed]"
    }
   },
   "cell_type": "markdown",
   "id": "limited-pressing",
   "metadata": {},
   "source": [
    "![image.png](attachment:470e6087-114e-4da3-81fb-72d9dd07c359.png)"
   ]
  },
  {
   "cell_type": "code",
   "execution_count": null,
   "id": "changed-frontier",
   "metadata": {},
   "outputs": [],
   "source": [
    "#Пример 3.1:\n",
    "\n",
    "Ввод: mat = [[3, 3, 1, 1], [2, 2, 1, 2], [1, 1, 1, 2]]\n",
    "Вывод: [[1, 1, 1, 1], [1, 2, 2, 2], [1, 2, 3, 3]]\n",
    "    \n",
    "Пример 3.2:\n",
    "Ввод: mat = [[11, 25, 66, 1, 69, 7], [23, 55, 17, 45, 15, 52], [75, 31, 36,\n",
    "44, 58, 8], [22, 27, 33, 25, 68, 4], [84, 28, 14, 11, 5, 50]]\n",
    "Вывод: [[5, 17, 4, 1, 52, 7], [11, 11, 25, 45, 8, 69], [14, 23, 25, 44, 58,\n",
    "15], [22, 27, 31, 36, 50, 66], [84, 28, 75, 33, 55, 68]]\n",
    "   "
   ]
  },
  {
   "cell_type": "code",
   "execution_count": 4,
   "id": "fresh-burner",
   "metadata": {},
   "outputs": [
    {
     "name": "stdout",
     "output_type": "stream",
     "text": [
      "[1, 1, 1, 1]\n",
      "[1, 2, 2, 2]\n",
      "[1, 2, 3, 3]\n"
     ]
    }
   ],
   "source": [
    "def sortDiag(M):\n",
    "    rows,cols = len(M),len(M[0])        # matrix dimensions\n",
    "    diags     = range(rows + cols - 1)  # diagonal identifiers\n",
    "    diagNo    = [ (d,r,c) for r in range(rows)\n",
    "                          for c,d in enumerate(diags[-cols-r::][:cols]) ]\n",
    "    diagVal   = [ (d,M[r][c]) for d,r,c in diagNo ] # values per diagonal\n",
    "    result    = [[None]*cols for _ in range(rows)]\n",
    "    for (_,v),(_,r,c) in zip(sorted(diagVal),sorted(diagNo)):\n",
    "        result[r][c] = v  # assign position with sorted value\n",
    "    return result\n",
    "M = [[3,3,1,1],[2,2,1,2],[1,1,1,2]]\n",
    "print(*sortDiag(M),sep=\"\\n\")\n"
   ]
  },
  {
   "cell_type": "code",
   "execution_count": null,
   "id": "martial-party",
   "metadata": {},
   "outputs": [],
   "source": [
    "#------------------------------------------------------------------------------------\n",
    "#---------------------------------------------------------------------------------------\n",
    "#---------------------------------------------------------------------------------------\n",
    "#---------------------------------------------------------------------------------------\n",
    "#--------------------------------------------------------------------------------------"
   ]
  },
  {
   "cell_type": "code",
   "execution_count": null,
   "id": "breathing-nebraska",
   "metadata": {},
   "outputs": [],
   "source": [
    "Задача 4. «Стопки монет»"
   ]
  },
  {
   "cell_type": "code",
   "execution_count": null,
   "id": "functioning-louisiana",
   "metadata": {},
   "outputs": [],
   "source": [
    "#\"\"\"\n",
    "На столе стоят 3n стопок монет. Вы и ваши друзья Алиса и Боб забираете стопки монет по\n",
    "следующему алгоритму:\n",
    "1. Вы выбираете 3 стопки монет из оставшихся на столе.\n",
    "2. Алиса забирает себе стопку с максимальным количеством монет.\n",
    "3. Вы забираете одну из двух оставшихся стопок.\n",
    "4. Боб забирает последнюю стопку.\n",
    "5. Если еще остались стопки, то действия повторяются с первого шага.\n",
    "Дан массив целых положительных чисел piles. Напишите функцию, возвращающую макси­\n",
    "мальное число монет, которое вы можете получить.\n",
    "Пример 1.1:\n",
    "Ввод: piles = [2,4,1,2,7,8]\n",
    "Вывод: 9\n",
    "    \n",
    "Пример 1.2:\n",
    "Ввод: piles = [2,4,5]\n",
    "Вывод: 4\n",
    "    \n",
    "Пример 1.3:\n",
    "Ввод: piles = [9,8,7,6,5,1,2,3,4]\n",
    "Вывод: 18\n",
    "#\"\"\""
   ]
  },
  {
   "cell_type": "code",
   "execution_count": 5,
   "id": "thirty-administration",
   "metadata": {},
   "outputs": [
    {
     "name": "stdout",
     "output_type": "stream",
     "text": [
      "18\n"
     ]
    }
   ],
   "source": [
    "class Solution:\n",
    "    def maxCoins(self, piles) -> int:\n",
    "        piles.sort()\n",
    "        res = 0\n",
    "        while len(piles) > 0:\n",
    "            res += piles[-2]\n",
    "            del piles[0]\n",
    "            del piles[-1]\n",
    "            del piles[-1]\n",
    "        return res\n",
    "\n",
    "s = Solution()\n",
    "piles = [9,8,7,6,5,1,2,3,4]\n",
    "print(s.maxCoins(piles))\n"
   ]
  },
  {
   "cell_type": "code",
   "execution_count": null,
   "id": "frequent-shape",
   "metadata": {},
   "outputs": [],
   "source": [
    "#------------------------------------------------------------------------------------\n",
    "#---------------------------------------------------------------------------------------\n",
    "#---------------------------------------------------------------------------------------\n",
    "#---------------------------------------------------------------------------------------\n",
    "#--------------------------------------------------------------------------------------\n"
   ]
  },
  {
   "cell_type": "code",
   "execution_count": null,
   "id": "formed-capacity",
   "metadata": {},
   "outputs": [],
   "source": [
    "Задача 5. «Шарики и стрелы»"
   ]
  },
  {
   "cell_type": "code",
   "execution_count": null,
   "id": "upset-diary",
   "metadata": {},
   "outputs": [],
   "source": [
    "#Задача 1. «Шарики и стрелы»\n",
    "\n",
    "Некоторые сферические шарики распределены по двухмерному пространству. Для каждого\n",
    "шарика даны x-координаты начала и конца его горизонтального диаметра. Так как пространство\n",
    "двумерно, то y-координаты не имеют значения в данной задаче. Координата xstart всегда меньше\n",
    "xend.\n",
    "Стрелу можно выстрелить строго вертикально (вдоль y-оси) из разных точек x-оси. Шарик\n",
    "с координатами xstart и xend уничтожается стрелой, если она была выпущена из такой позиции\n",
    "x, что xstart ⩽ x ⩽ xend. Когда стрела выпущена, она летит в пространстве бесконечное время\n",
    "(уничтожая все шарики на пути).\n",
    "Дан массив points, где points[i] = [xstart, xend]. Напишите функцию, возвращающую минимальное количество стрел, которые нужно выпустить, чтобы уничтожить все шарики.\n",
    "Пример 1.1:\n",
    "Ввод: points = [[10,16],[2,8],[1,6],[7,12]]\n",
    "Вывод: 2\n",
    "    \n",
    "Пример 1.2:\n",
    "Ввод: points = [[1,2],[3,4],[5,6],[7,8]]\n",
    "Вывод: 4\n",
    "    \n",
    "Пример 1.3:\n",
    "Ввод: points = [[1,2],[2,3],[3,4],[4,5]]\n",
    "Вывод: 2\n",
    "    \n",
    "Пример 1.4:\n",
    "Ввод: points = [[1,2]]\n",
    "Вывод: 1\n",
    "    \n",
    "Пример 1.5:\n",
    "Ввод: points = [[2,3],[2,3]]\n",
    "Вывод: 1\n"
   ]
  },
  {
   "cell_type": "code",
   "execution_count": 6,
   "id": "norman-history",
   "metadata": {},
   "outputs": [
    {
     "name": "stdout",
     "output_type": "stream",
     "text": [
      "4\n"
     ]
    }
   ],
   "source": [
    "def findMinArrowShots(points):\n",
    "    points.sort(key = lambda x:x[1])\n",
    "    res, end = 0, -float('inf')\n",
    "    for p in points:\n",
    "        if p[0] > end:\n",
    "            res += 1\n",
    "            end = p[1]\n",
    "    return res\n",
    "\n",
    "points = [[1,2],[3,4],[5,6],[7,8]]\n",
    "print(findMinArrowShots(points))"
   ]
  },
  {
   "cell_type": "code",
   "execution_count": null,
   "id": "worthy-milton",
   "metadata": {},
   "outputs": [],
   "source": [
    "#------------------------------------------------------------------------------------\n",
    "#---------------------------------------------------------------------------------------\n",
    "#---------------------------------------------------------------------------------------\n",
    "#---------------------------------------------------------------------------------------\n",
    "#--------------------------------------------------------------------------------------"
   ]
  },
  {
   "cell_type": "code",
   "execution_count": null,
   "id": "square-access",
   "metadata": {},
   "outputs": [],
   "source": [
    "#Задача 6. «Объединение Отрезков»"
   ]
  },
  {
   "cell_type": "code",
   "execution_count": null,
   "id": "burning-reception",
   "metadata": {},
   "outputs": [],
   "source": [
    "#\"\"\"\n",
    "Дан массив отрезков intervals, в котором intervals[i] = [starti, endi], некоторые\n",
    "отрезки могут пересекаться. Напишите функцию, которая объединяет все пересекающиеся от­\n",
    "резки в один и возвращает новый массив непересекающихся отрезков.\n",
    "Пример 1.1:\n",
    "Ввод: intervals = [[1,3],[2,6],[8,10],[15,18]]\n",
    "Вывод: [[1,6],[8,10],[15,18]]\n",
    "    \n",
    "Пример 1.2:\n",
    "Ввод: intervals = [[1,4],[4,5]]\n",
    "Вывод: [[1,5]]\n",
    "#\"\"\""
   ]
  },
  {
   "cell_type": "code",
   "execution_count": 7,
   "id": "minimal-carter",
   "metadata": {},
   "outputs": [
    {
     "name": "stdout",
     "output_type": "stream",
     "text": [
      "The Merged Intervals are : [1, 6] [8, 10] [15, 18] "
     ]
    }
   ],
   "source": [
    "# in O(n Log n) time and O(1) extra space\n",
    "def mergeIntervals(arr):\n",
    "\t\t\n",
    "\t\t# Sorting based on the increasing order\n",
    "\t\t# of the start intervals\n",
    "\t\tarr.sort(key = lambda x: x[0])\n",
    "\t\t\n",
    "\t\t# array to hold the merged intervals\n",
    "\t\tm = []\n",
    "\t\ts = -10000\n",
    "\t\tmax = -100000\n",
    "\t\tfor i in range(len(arr)):\n",
    "\t\t\ta = arr[i]\n",
    "\t\t\tif a[0] > max:\n",
    "\t\t\t\tif i != 0:\n",
    "\t\t\t\t\tm.append([s,max])\n",
    "\t\t\t\tmax = a[1]\n",
    "\t\t\t\ts = a[0]\n",
    "\t\t\telse:\n",
    "\t\t\t\tif a[1] >= max:\n",
    "\t\t\t\t\tmax = a[1]\n",
    "\t\t\n",
    "\t\t#'max' value gives the last point of\n",
    "\t\t# that particular interval\n",
    "\t\t# 's' gives the starting point of that interval\n",
    "\t\t# 'm' array contains the list of all merged intervals\n",
    "\n",
    "\t\tif max != -100000 and [s, max] not in m:\n",
    "\t\t\tm.append([s, max])\n",
    "\t\tprint(\"The Merged Intervals are :\", end = \" \")\n",
    "\t\tfor i in range(len(m)):\n",
    "\t\t\tprint(m[i], end = \" \")\n",
    "\n",
    "arr = [[1,3],[2,6],[8,10],[15,18]]\n",
    "mergeIntervals(arr)"
   ]
  },
  {
   "cell_type": "code",
   "execution_count": null,
   "id": "muslim-marsh",
   "metadata": {},
   "outputs": [],
   "source": [
    "#Задача 7\n",
    "\n",
    "Даны две строки: s1 и s2 с одинаковым размером, проверьте, может ли\n",
    "некоторая перестановка строки s1 “победить” некоторую перестановку\n",
    "строки s2 или наоборот.\n",
    "Строка x может “победить” строку y (обе имеют размер n), если x[i]> = y\n",
    "[i] (в алфавитном порядке) для всех i от 0 до n-1."
   ]
  },
  {
   "cell_type": "code",
   "execution_count": 1,
   "id": "organized-candy",
   "metadata": {},
   "outputs": [
    {
     "name": "stdout",
     "output_type": "stream",
     "text": [
      "True\n",
      "False\n"
     ]
    }
   ],
   "source": [
    "def pobeda(str1, str2):\n",
    "    sorted1 = ''.join(sorted(str1));\n",
    "    sorted2 = ''.join(sorted(str2));\n",
    "    firstWon = True; secondWon = True;\n",
    "    \n",
    "    for i in range(0, len(sorted1)):\n",
    "        if not (sorted1[i] >= sorted2[i]):\n",
    "            firstWon = False\n",
    "            break;\n",
    "    \n",
    "    if not firstWon:\n",
    "        for i in range(0, len(sorted1)):\n",
    "            if not(sorted2[i] >= sorted1[i]):\n",
    "                secondWon = False\n",
    "                break;\n",
    "    else: secondWon = False\n",
    "    \n",
    "    return (firstWon or secondWon)\n",
    "print(pobeda('abc', 'xya'))\n",
    "print(pobeda('abe', 'acd'))"
   ]
  },
  {
   "cell_type": "code",
   "execution_count": null,
   "id": "widespread-dubai",
   "metadata": {},
   "outputs": [],
   "source": [
    "#Задача 8 \n",
    "Дана строка s, вернуть самую длинную полиндромную подстроку в s."
   ]
  },
  {
   "cell_type": "code",
   "execution_count": 2,
   "id": "mounted-trace",
   "metadata": {},
   "outputs": [
    {
     "name": "stdout",
     "output_type": "stream",
     "text": [
      "bab\n",
      "bb\n",
      "gffg\n"
     ]
    }
   ],
   "source": [
    "def isPalindrom(inStr):\n",
    "    length = len(inStr)\n",
    "    if length == 0 or length == 1:\n",
    "        return True\n",
    "    else:\n",
    "        flag = True\n",
    "        for i in range(0, int(length / 2)):\n",
    "            if not(inStr[i] == inStr[length - (i + 1)]):\n",
    "                flag = False\n",
    "        return flag\n",
    "\n",
    "def solve(text):\n",
    "    length = len(text)\n",
    "    if (length == 0 or length == 1):\n",
    "        return text\n",
    "    result = text[0:1]\n",
    "    \n",
    "    for i in range(0, length):\n",
    "        offset = 0\n",
    "        if (i <= (length - (i + 1))):\n",
    "            offset = i\n",
    "        else:\n",
    "            offset = length - (i + 1)\n",
    "        \n",
    "        for j in range(0, offset + 1):\n",
    "            temp1 = text[i - j: 2 * j + 1]\n",
    "            temp2 = text[i - j: 2 * j]\n",
    "            if isPalindrom(temp1):\n",
    "                if len(temp1) > len(result):\n",
    "                    result = temp1\n",
    "            elif isPalindrom(temp2):\n",
    "                if len(temp2) > len(result):\n",
    "                    result = temp2\n",
    "            else: break;\n",
    "    \n",
    "    return result\n",
    "\n",
    "print(solve('babad'))\n",
    "print(solve('cbbd'))\n",
    "print(solve('hgffgs'))\n"
   ]
  },
  {
   "cell_type": "code",
   "execution_count": null,
   "id": "congressional-robin",
   "metadata": {},
   "outputs": [],
   "source": [
    "#Задача 9"
   ]
  },
  {
   "cell_type": "code",
   "execution_count": null,
   "id": "chicken-consequence",
   "metadata": {},
   "outputs": [],
   "source": [
    "Вернуть количество отдельных непустых подстрок текста, которые могут\n",
    "быть записаны как конкатенация некоторой строки с самой собой (т.е. она\n",
    "может быть записана, как a + a, где a - некоторая строка)."
   ]
  },
  {
   "cell_type": "code",
   "execution_count": 3,
   "id": "swiss-saudi",
   "metadata": {},
   "outputs": [
    {
     "name": "stdout",
     "output_type": "stream",
     "text": [
      "3\n"
     ]
    }
   ],
   "source": [
    "def empty(text):\n",
    "    length = len(text)\n",
    "    result = []\n",
    "    for i in range(0, length):\n",
    "        for j in range(i + 1, length + 1):\n",
    "            temp = text[i:j]\n",
    "            for i in range(0, len(temp)):\n",
    "                flag = False\n",
    "                if temp[0:i] == temp[i:len(temp)]:\n",
    "                    result.append(temp)\n",
    "                    flag = True\n",
    "                if flag == True: break;              \n",
    "    return len(set(result))\n",
    "print(empty('abcabcabc'))"
   ]
  },
  {
   "cell_type": "code",
   "execution_count": null,
   "id": "requested-treatment",
   "metadata": {},
   "outputs": [],
   "source": [
    "# вывод"
   ]
  },
  {
   "cell_type": "code",
   "execution_count": null,
   "id": "threatened-mystery",
   "metadata": {},
   "outputs": [],
   "source": [
    "#\"\"\"\n",
    "В курсовой работе я познакомился с языком Python.\n",
    "Реализовать:треугольник с максимальным периметром; максимальное количество;\n",
    "сортировка диагоналей в матрице; Стопки монет; Шары и стрелы; Объединение строк\n",
    "#\"\"\""
   ]
  }
 ],
 "metadata": {
  "kernelspec": {
   "display_name": "Python 3",
   "language": "python",
   "name": "python3"
  },
  "language_info": {
   "codemirror_mode": {
    "name": "ipython",
    "version": 3
   },
   "file_extension": ".py",
   "mimetype": "text/x-python",
   "name": "python",
   "nbconvert_exporter": "python",
   "pygments_lexer": "ipython3",
   "version": "3.8.5"
  }
 },
 "nbformat": 4,
 "nbformat_minor": 5
}
