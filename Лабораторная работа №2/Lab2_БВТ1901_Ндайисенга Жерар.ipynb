{
 "cells": [
  {
   "cell_type": "markdown",
   "metadata": {},
   "source": [
    "# **Выполнил студент группы БВТ1901 НДАЙИСЕНГА ЖЕРАР.**\n",
    "# Лабораторная работа №2. Методы поиска\n",
    "\n",
    "# Задание\n",
    "Реализовать методы поиска в соответствии с заданием. Организовать генерацию начального набора случайных данных. Для всех вариантов добавить реализацию добавления, поиска и удаления элементов. Оценить время работы каждого алгоритма поиска и сравнить его со временем работы стандартной функции поиска, используемой в выбранном языке программирования.\n",
    "\n",
    "Задание №1:\n",
    "Бинарный поиск\t|Бинарное дерево\t|Фибоначчиев\t|Интерполяционный\n",
    "\n",
    "Задание №2:\n",
    "Простое рехэширование |Рехэширование с помощью |Метод цепочек\n",
    "\n",
    "\n",
    "\n",
    "Задание № 3:\n",
    "\n",
    "Расставить на стандартной 64-клеточной шахматной доске 8 ферзей так, чтобы ни один из них не находился под боем другого». Подразумевается, что ферзь бьёт все клетки, расположенные по вертикалям, горизонталям и обеим диагоналям\n",
    "Написать программу,  которая находит хотя бы один способ решения задач."
   ]
  },
  {
   "cell_type": "markdown",
   "metadata": {},
   "source": [
    "# ЗАДАНИЕ 1"
   ]
  },
  {
   "cell_type": "markdown",
   "metadata": {},
   "source": [
    "# дополнительный код (для генерации и сортировки массива)"
   ]
  },
  {
   "cell_type": "code",
   "execution_count": 6,
   "metadata": {},
   "outputs": [
    {
     "name": "stdout",
     "output_type": "stream",
     "text": [
      "[55, 61, 93, 38, 36, 70, 19, 100, 48, 23, 32, 54, 94, 91, 73, 23, 91, 74, 66, 45, 57, 99, 88, 0, 67, 21, 79, 47, 67, 99, 68, 37, 73, 3, 21, 42, 73, 71, 29, 85, 82, 42, 73, 94, 14, 21, 29, 64, 82, 25, 83, 19, 67, 41, 39, 46, 6, 82, 25, 75, 42, 19, 99, 38, 26, 78, 52, 54, 38, 0, 55, 90, 19, 11, 14, 86, 27, 61, 92, 26, 41, 5, 95, 20, 41, 76, 99, 20, 49, 91, 63, 38, 88, 87, 2, 81, 92, 84, 44, 50]\n",
      "[0, 0, 2, 3, 5, 6, 11, 14, 14, 19, 19, 19, 19, 20, 20, 21, 21, 21, 23, 23, 25, 25, 26, 26, 27, 29, 29, 32, 36, 37, 38, 38, 38, 38, 39, 41, 41, 41, 42, 42, 42, 44, 45, 46, 47, 48, 49, 50, 52, 54, 54, 55, 55, 57, 61, 61, 63, 64, 66, 67, 67, 67, 68, 70, 71, 73, 73, 73, 73, 74, 75, 76, 78, 79, 81, 82, 82, 82, 83, 84, 85, 86, 87, 88, 88, 90, 91, 91, 91, 92, 92, 93, 94, 94, 95, 99, 99, 99, 99, 100]\n"
     ]
    }
   ],
   "source": [
    "\n",
    "import random\n",
    "\n",
    "\n",
    "def generate_array(length=100):  # генерируем случайный массив\n",
    "    array = []\n",
    "    while len(array) < length:\n",
    "        array.append(random.randint(0, 100))\n",
    "    return array\n",
    "\n",
    "\n",
    "def default_sort(array):  # Сортируем с помощью встроенной функции\n",
    "    ans = array.copy()\n",
    "    ans.sort()\n",
    "    return ans\n",
    "\n",
    "\n",
    "\n",
    "init_array = generate_array(1_00)\n",
    "print(init_array)\n",
    "sorted_array = default_sort(init_array)\n",
    "print(sorted_array)"
   ]
  },
  {
   "cell_type": "markdown",
   "metadata": {},
   "source": [
    "# [бинарный поиск](https://ru.wikipedia.org/wiki/%D0%94%D0%B2%D0%BE%D0%B8%D1%87%D0%BD%D1%8B%D0%B9_%D0%BF%D0%BE%D0%B8%D1%81%D0%BA)"
   ]
  },
  {
   "cell_type": "code",
   "execution_count": 2,
   "metadata": {},
   "outputs": [],
   "source": [
    "def binary_search(array, element):\n",
    "    arr_length = len(array)\n",
    "    left_bound = 0\n",
    "    right_bound = arr_length\n",
    "    middle = arr_length // 2\n",
    "    while array[middle] != element:\n",
    "        if right_bound - left_bound == 1: \n",
    "            return -1\n",
    "        if array[middle] > element:\n",
    "            right_bound = middle\n",
    "        else:\n",
    "            left_bound = middle\n",
    "        middle = (right_bound + left_bound) // 2\n",
    "    return middle"
   ]
  },
  {
   "cell_type": "markdown",
   "metadata": {},
   "source": [
    "# - добавление и удаление элементов"
   ]
  },
  {
   "cell_type": "code",
   "execution_count": 3,
   "metadata": {},
   "outputs": [],
   "source": [
    "def add_element_binary_search(array, element):\n",
    "    arr_length = len(array)\n",
    "    left_bound = 0\n",
    "    right_bound = arr_length\n",
    "    middle = arr_length // 2\n",
    "    while True:\n",
    "        if right_bound - left_bound == 1:  # поиск окончен, добавляем элемент в нужную часть\n",
    "            if right_bound == arr_length and element > array[arr_length - 1]:  # частный случай: добавление в конец\n",
    "                return array + [element]\n",
    "            if left_bound == 0 and element < array[0]:  # частный случай: добавление в начало\n",
    "                return [element] + array\n",
    "            return array[:right_bound] + [element] + array[right_bound:]\n",
    "\n",
    "        if array[middle] > element:\n",
    "            right_bound = middle\n",
    "        else:\n",
    "            left_bound = middle\n",
    "        middle = (right_bound + left_bound) // 2\n",
    "\n",
    "\n",
    "def remove_element_binary_search(array, element):\n",
    "    i = binary_search(array, element)\n",
    "    if i == -1:\n",
    "        return array\n",
    "    else:\n",
    "        return array[:i] + array[(i + 1):]"
   ]
  },
  {
   "cell_type": "markdown",
   "metadata": {},
   "source": [
    "# - примеры работы"
   ]
  },
  {
   "cell_type": "code",
   "execution_count": 4,
   "metadata": {},
   "outputs": [
    {
     "name": "stdout",
     "output_type": "stream",
     "text": [
      "[0, 0, 1, 3, 4, 4, 5, 7, 8, 8, 8, 9, 11, 11, 12, 12, 13, 14, 14, 14, 17, 18, 19, 21, 22, 24, 25, 25, 26, 26, 29, 30, 30, 31, 32, 32, 32, 32, 33, 34, 35, 37, 37, 40, 40, 41, 42, 42, 45, 45, 45, 49, 50, 50, 51, 51, 52, 53, 53, 55, 58, 60, 61, 62, 64, 64, 66, 66, 66, 67, 67, 72, 73, 74, 75, 75, 76, 77, 77, 79, 80, 81, 85, 85, 85, 86, 87, 88, 91, 91, 92, 96, 96, 97, 99, 99, 99, 100, 100, 100]\n",
      "[0, 0, 1, 1, 3, 4, 4, 5, 7, 8, 8, 8, 9, 11, 11, 12, 12, 13, 14, 14, 14, 17, 18, 19, 21, 22, 24, 25, 25, 26, 26, 29, 30, 30, 31, 32, 32, 32, 32, 33, 34, 35, 37, 37, 40, 40, 41, 42, 42, 45, 45, 45, 49, 50, 50, 51, 51, 52, 53, 53, 55, 58, 60, 61, 62, 64, 64, 66, 66, 66, 67, 67, 72, 73, 74, 75, 75, 76, 77, 77, 79, 80, 81, 85, 85, 85, 86, 87, 88, 91, 91, 92, 96, 96, 97, 99, 99, 99, 100, 100, 100, 101]\n",
      "[0, 0, 1, 1, 3, 4, 4, 5, 7, 8, 8, 8, 9, 11, 11, 12, 12, 13, 14, 14, 14, 17, 18, 19, 21, 22, 24, 25, 25, 26, 26, 29, 30, 30, 31, 32, 32, 32, 32, 33, 34, 35, 37, 37, 40, 40, 41, 42, 42, 45, 45, 45, 49, 50, 50, 51, 51, 52, 53, 53, 55, 58, 60, 61, 62, 64, 64, 66, 66, 66, 67, 67, 72, 73, 74, 75, 75, 76, 77, 77, 79, 80, 81, 85, 85, 85, 86, 87, 88, 91, 91, 92, 96, 96, 97, 99, 99, 99, 100, 100, 100]\n",
      "Элемент 20 имеет индекс -1\n"
     ]
    }
   ],
   "source": [
    "binary_search_array = default_sort(init_array)\n",
    "print(binary_search_array)\n",
    "binary_search_array = add_element_binary_search(binary_search_array, 101)\n",
    "binary_search_array = add_element_binary_search(binary_search_array, 1)\n",
    "print(binary_search_array)\n",
    "binary_search_array = remove_element_binary_search(binary_search_array, 101)\n",
    "print(binary_search_array)\n",
    "\n",
    "print('Элемент %i имеет индекс %i' % (20, binary_search(binary_search_array, 20)))"
   ]
  },
  {
   "cell_type": "markdown",
   "metadata": {},
   "source": [
    "# [бинарное дерево](https://ru.wikipedia.org/wiki/%D0%94%D0%B2%D0%BE%D0%B8%D1%87%D0%BD%D0%BE%D0%B5_%D0%B4%D0%B5%D1%80%D0%B5%D0%B2%D0%BE_%D0%BF%D0%BE%D0%B8%D1%81%D0%BA%D0%B0)"
   ]
  },
  {
   "cell_type": "code",
   "execution_count": 7,
   "metadata": {},
   "outputs": [],
   "source": [
    "# класс и функции для бинарного дерева\n",
    "\n",
    "\n",
    "class Node:\n",
    "    def __init__(self, key):\n",
    "        self.left = None\n",
    "        self.right = None\n",
    "        self.val = key\n",
    "\n",
    "\n",
    "def make_binary_tree(array):\n",
    "    rr = Node(None)\n",
    "    for x in array:\n",
    "        rr = add_element_binary_tree(rr, x)\n",
    "    return rr\n",
    "\n",
    "\n",
    "def print_node(node):\n",
    "    if node is None or node.val is None:\n",
    "        print(\"Н\", end=\" \")\n",
    "    else:\n",
    "        print(node.val, end=\" \")\n",
    "\n",
    "\n",
    "def print_binary_tree(*nodes):\n",
    "    new_nodes = []\n",
    "    for node in nodes:\n",
    "        print_node(node)\n",
    "        if node is not None:\n",
    "            new_nodes.append(node.left)\n",
    "            new_nodes.append(node.right)\n",
    "        else:\n",
    "            new_nodes.append(None)\n",
    "            new_nodes.append(None)\n",
    "    print(\" \")\n",
    "\n",
    "    if not new_nodes or not all(x is None for x in new_nodes):\n",
    "        print_binary_tree(*new_nodes)"
   ]
  },
  {
   "cell_type": "markdown",
   "metadata": {},
   "source": [
    "# - поиск в бинарном дереве"
   ]
  },
  {
   "cell_type": "code",
   "execution_count": 8,
   "metadata": {},
   "outputs": [],
   "source": [
    "def binary_tree_search(root, key):  # поиск элемента в бинарном дереве\n",
    "    if root is None or root.val == key:  # возвращает найденный эл., и None если эл. не найден\n",
    "        return root\n",
    "    if root.val <= key:  # поиск...\n",
    "        return binary_tree_search(root.right, key)\n",
    "    return binary_tree_search(root.left, key)"
   ]
  },
  {
   "cell_type": "markdown",
   "metadata": {},
   "source": [
    "# - добавление и удаление элементов"
   ]
  },
  {
   "cell_type": "code",
   "execution_count": 9,
   "metadata": {},
   "outputs": [],
   "source": [
    "def add_element_binary_tree(root, key):\n",
    "    if root is None:\n",
    "        return Node(key)\n",
    "    if root.val is None:\n",
    "        return Node(key)\n",
    "    else:\n",
    "        if root.val < key:\n",
    "            root.right = add_element_binary_tree(root.right, key)\n",
    "        else:\n",
    "            root.left = add_element_binary_tree(root.left, key)\n",
    "    return root\n",
    "\n",
    "\n",
    "def remove_element_binary_tree_search(root, key):\n",
    "    if root is None:\n",
    "        return root\n",
    "\n",
    "    if key < root.val:\n",
    "        root.left = remove_element_binary_tree_search(root.left, key)\n",
    "    elif key > root.val:\n",
    "        root.right = remove_element_binary_tree_search(root.right, key)\n",
    "    else:\n",
    "        # случаи: у родителя только 1 ребёнок\n",
    "        if root.left is None:\n",
    "            buffer = root.right\n",
    "            root = None\n",
    "            return buffer\n",
    "        elif root.right is None:  # в любой непонятной ситуации бери левого ребёнка\n",
    "            buffer = root.left\n",
    "            root = None\n",
    "            return buffer\n",
    "        # случай: у родителя 2 ребёнка\n",
    "        min_node = root.right\n",
    "        # ищем минимальный элемент справа\n",
    "        while min_node.left is not None:\n",
    "            min_node = min_node.left\n",
    "        root.val = min_node.val\n",
    "        root.right = remove_element_binary_tree_search(root.right, min_node.val)\n",
    "    return root"
   ]
  },
  {
   "cell_type": "markdown",
   "metadata": {},
   "source": [
    "# - примеры работы"
   ]
  },
  {
   "cell_type": "code",
   "execution_count": 12,
   "metadata": {},
   "outputs": [
    {
     "name": "stdout",
     "output_type": "stream",
     "text": [
      "31  \n",
      "Н 93  \n",
      "Н Н 40 99  \n",
      "Н Н Н Н Н 49 Н Н  \n",
      "Н Н Н Н Н Н Н Н Н Н 45 80 Н Н Н Н  \n",
      "Н Н Н Н Н Н Н Н Н Н Н Н Н Н Н Н Н Н Н Н 43 Н 62 Н Н Н Н Н Н Н Н Н  \n",
      "Н Н Н Н Н Н Н Н Н Н Н Н Н Н Н Н Н Н Н Н Н Н Н Н Н Н Н Н Н Н Н Н Н Н Н Н Н Н Н Н Н Н Н Н Н 67 Н Н Н Н Н Н Н Н Н Н Н Н Н Н Н Н Н Н  \n",
      "31  \n",
      "5 93  \n",
      "Н Н 40 99  \n",
      "Н Н Н Н Н 49 Н Н  \n",
      "Н Н Н Н Н Н Н Н Н Н 45 80 Н Н Н Н  \n",
      "Н Н Н Н Н Н Н Н Н Н Н Н Н Н Н Н Н Н Н Н 43 Н 62 Н Н Н Н Н Н Н Н Н  \n",
      "Н Н Н Н Н Н Н Н Н Н Н Н Н Н Н Н Н Н Н Н Н Н Н Н Н Н Н Н Н Н Н Н Н Н Н Н Н Н Н Н Н Н Н Н Н 67 Н Н Н Н Н Н Н Н Н Н Н Н Н Н Н Н Н Н  \n",
      "31  \n",
      "Н 93  \n",
      "Н Н 40 99  \n",
      "Н Н Н Н Н 49 Н Н  \n",
      "Н Н Н Н Н Н Н Н Н Н 45 80 Н Н Н Н  \n",
      "Н Н Н Н Н Н Н Н Н Н Н Н Н Н Н Н Н Н Н Н 43 Н 62 Н Н Н Н Н Н Н Н Н  \n",
      "Н Н Н Н Н Н Н Н Н Н Н Н Н Н Н Н Н Н Н Н Н Н Н Н Н Н Н Н Н Н Н Н Н Н Н Н Н Н Н Н Н Н Н Н Н 67 Н Н Н Н Н Н Н Н Н Н Н Н Н Н Н Н Н Н  \n",
      "50 "
     ]
    }
   ],
   "source": [
    "array_for_tree = generate_array(10)\n",
    "r = make_binary_tree(array_for_tree)\n",
    "print_binary_tree(r)\n",
    "r = add_element_binary_tree(r, 5)\n",
    "print_binary_tree(r)\n",
    "r = remove_element_binary_tree_search(r, 5)\n",
    "print_binary_tree(r)\n",
    "\n",
    "r = add_element_binary_tree(r, 50)\n",
    "print_node(binary_tree_search(r, 50))"
   ]
  },
  {
   "cell_type": "markdown",
   "metadata": {},
   "source": [
    "# [фибоначчиев](https://neerc.ifmo.ru/wiki/index.php?title=%D0%9C%D0%B5%D1%82%D0%BE%D0%B4_%D0%A4%D0%B8%D0%B1%D0%BE%D0%BD%D0%B0%D1%87%D1%87%D0%B8)"
   ]
  },
  {
   "cell_type": "code",
   "execution_count": 13,
   "metadata": {},
   "outputs": [],
   "source": [
    "def fibonacci_search(array, element):\n",
    "    arr_length = len(array)\n",
    "    fpast = 0\n",
    "    fnow = 1\n",
    "    while True:  # пытаемся найти промежуток, где находится наше значение\n",
    "        if fnow >= arr_length:  # дошли до конца массива промежутком\n",
    "            if array[arr_length - 1] < element:\n",
    "                return -1\n",
    "            else:\n",
    "                fnow = arr_length - 1\n",
    "                break\n",
    "        if array[fnow] >= element:\n",
    "            break\n",
    "        buffer = fnow\n",
    "        fnow = fnow + fpast\n",
    "        fpast = buffer\n",
    "\n",
    "    for i in range(fpast, fnow + 1):\n",
    "        if array[i] == element:\n",
    "            return i\n",
    "    return -1"
   ]
  },
  {
   "cell_type": "markdown",
   "metadata": {},
   "source": [
    "# - добавление и удаление элементов"
   ]
  },
  {
   "cell_type": "code",
   "execution_count": 14,
   "metadata": {},
   "outputs": [],
   "source": [
    "def add_element_fibonacci(array, element):\n",
    "    arr_length = len(array)\n",
    "    fpast = 0\n",
    "    fnow = 1\n",
    "    while True:  # пытаемся найти промежуток, где находится наше значение\n",
    "        if fnow >= arr_length:  # дошли до конца массива промежутком\n",
    "            if array[arr_length - 1] < element:\n",
    "                return array + [element]\n",
    "            else:\n",
    "                fnow = arr_length - 1\n",
    "                break\n",
    "        if array[fnow] >= element:\n",
    "            break\n",
    "        buffer = fnow\n",
    "        fnow = fnow + fpast\n",
    "        fpast = buffer\n",
    "\n",
    "    for i in range(fpast, fnow + 1):\n",
    "        if array[i] >= element:\n",
    "            return array[:i] + [element] + array[i:]\n",
    "    return [element] + array\n",
    "\n",
    "\n",
    "def remove_element_fibonacci(array, element):\n",
    "    i = fibonacci_search(array, element)\n",
    "    if i == -1:\n",
    "        return array\n",
    "    else:\n",
    "        return array[:i] + array[(i + 1):]"
   ]
  },
  {
   "cell_type": "markdown",
   "metadata": {},
   "source": [
    "# - примеры работы"
   ]
  },
  {
   "cell_type": "code",
   "execution_count": 15,
   "metadata": {},
   "outputs": [
    {
     "name": "stdout",
     "output_type": "stream",
     "text": [
      "[0, 0, 2, 3, 5, 6, 11, 14, 14, 19, 19, 19, 19, 20, 20, 21, 21, 21, 23, 23, 25, 25, 26, 26, 27, 29, 29, 32, 36, 37, 38, 38, 38, 38, 39, 41, 41, 41, 42, 42, 42, 44, 45, 46, 47, 48, 49, 50, 52, 54, 54, 55, 55, 57, 61, 61, 63, 64, 66, 67, 67, 67, 68, 70, 71, 73, 73, 73, 73, 74, 75, 76, 78, 79, 81, 82, 82, 82, 83, 84, 85, 86, 87, 88, 88, 90, 91, 91, 91, 92, 92, 93, 94, 94, 95, 99, 99, 99, 99, 100]\n",
      "[-1, 0, 0, 1, 2, 3, 5, 6, 11, 14, 14, 19, 19, 19, 19, 20, 20, 21, 21, 21, 23, 23, 25, 25, 26, 26, 27, 29, 29, 32, 36, 37, 38, 38, 38, 38, 39, 41, 41, 41, 42, 42, 42, 44, 45, 46, 47, 48, 49, 50, 52, 54, 54, 55, 55, 57, 61, 61, 63, 64, 66, 67, 67, 67, 68, 70, 71, 73, 73, 73, 73, 74, 75, 76, 78, 79, 81, 82, 82, 82, 83, 84, 85, 86, 87, 88, 88, 90, 91, 91, 91, 92, 92, 93, 94, 94, 95, 99, 99, 99, 99, 100, 105]\n",
      "[0, 0, 1, 2, 3, 5, 6, 11, 14, 14, 19, 19, 19, 19, 20, 20, 21, 21, 21, 23, 23, 25, 25, 26, 26, 27, 29, 29, 32, 36, 37, 38, 38, 38, 38, 39, 41, 41, 41, 42, 42, 42, 44, 45, 46, 47, 48, 49, 50, 52, 54, 54, 55, 55, 57, 61, 61, 63, 64, 66, 67, 67, 67, 68, 70, 71, 73, 73, 73, 73, 74, 75, 76, 78, 79, 81, 82, 82, 82, 83, 84, 85, 86, 87, 88, 88, 90, 91, 91, 91, 92, 92, 93, 94, 94, 95, 99, 99, 99, 99, 100, 105]\n",
      "Элемент 14 имеет индекс 8\n"
     ]
    }
   ],
   "source": [
    "fibonacci_array = default_sort(init_array)\n",
    "print(fibonacci_array)\n",
    "fibonacci_array = add_element_fibonacci(fibonacci_array, -1)\n",
    "fibonacci_array = add_element_fibonacci(fibonacci_array, 1)\n",
    "fibonacci_array = add_element_fibonacci(fibonacci_array, 105)\n",
    "print(fibonacci_array)\n",
    "fibonacci_array = remove_element_fibonacci(fibonacci_array, -1)\n",
    "print(fibonacci_array)\n",
    "\n",
    "print('Элемент %i имеет индекс %i' % (14, fibonacci_search(fibonacci_array, 14)))"
   ]
  },
  {
   "cell_type": "markdown",
   "metadata": {},
   "source": [
    "# [интерполяционный](https://ru.wikipedia.org/wiki/%D0%98%D0%BD%D1%82%D0%B5%D1%80%D0%BF%D0%BE%D0%BB%D1%8F%D1%86%D0%B8%D0%BE%D0%BD%D0%BD%D1%8B%D0%B9_%D0%BF%D0%BE%D0%B8%D1%81%D0%BA)"
   ]
  },
  {
   "cell_type": "code",
   "execution_count": 16,
   "metadata": {},
   "outputs": [],
   "source": [
    "def interpolation_search(array, element):\n",
    "    low = 0\n",
    "    high = len(array) - 1\n",
    "    while array[low] < element < array[high]:\n",
    "        if array[high] == array[low]:\n",
    "            break\n",
    "        mid = low + ((element - array[low]) * (high - low) // (array[high] - array[low]))\n",
    "        if array[mid] < element:\n",
    "            low = mid + 1\n",
    "        elif array[mid] > element:\n",
    "            high = mid - 1\n",
    "        else:\n",
    "            return mid\n",
    "    if array[low] == element:\n",
    "        return low\n",
    "    if array[high] == element:\n",
    "        return high\n",
    "\n",
    "    return -1"
   ]
  },
  {
   "cell_type": "markdown",
   "metadata": {},
   "source": [
    "# - добавление и удаление элементов"
   ]
  },
  {
   "cell_type": "code",
   "execution_count": 17,
   "metadata": {},
   "outputs": [],
   "source": [
    "def add_element_interpolated(array, element):\n",
    "    low = 0\n",
    "    high = len(array) - 1\n",
    "    mid = low + (element - array[low]) * (high - low) // (array[high] - array[low])\n",
    "    if mid < 0:\n",
    "        return [element] + array\n",
    "    if mid >= len(array):\n",
    "        return array + [element]\n",
    "\n",
    "    while True:\n",
    "        if array[high] == array[low]:\n",
    "            return array[:mid] + [element] + array[mid:]\n",
    "        mid = low + (element - array[low]) * (high - low + 1) // (array[high] - array[low])\n",
    "        if mid > high:\n",
    "            return array[:(high + 1)] + [element] + array[(high + 1):]\n",
    "        if mid < low:\n",
    "            return array[:low] + [element] + array[low:]\n",
    "        if array[mid] < element:\n",
    "            low = mid + 1\n",
    "            if array[low] >= element:\n",
    "                return array[:low] + [element] + array[low:]\n",
    "        elif array[mid] > element:\n",
    "            high = mid - 1\n",
    "            if array[low] >= element:\n",
    "                return array[:mid] + [element] + array[mid:]\n",
    "        else:\n",
    "            return array[:mid] + [element] + array[mid:]\n",
    "        \n",
    "\n",
    "\n",
    "def remove_element_interpolated(array, element):\n",
    "    i = interpolation_search(array, element)\n",
    "    if i == -1:\n",
    "        return array\n",
    "    else:\n",
    "\n",
    "        return array[:i] + array[(i + 1):]"
   ]
  },
  {
   "cell_type": "markdown",
   "metadata": {},
   "source": [
    "  # - примеры работы"
   ]
  },
  {
   "cell_type": "code",
   "execution_count": 18,
   "metadata": {},
   "outputs": [
    {
     "name": "stdout",
     "output_type": "stream",
     "text": [
      "[0, 0, 2, 3, 5, 6, 11, 14, 14, 19, 19, 19, 19, 20, 20, 21, 21, 21, 23, 23, 25, 25, 26, 26, 27, 29, 29, 32, 36, 37, 38, 38, 38, 38, 39, 41, 41, 41, 42, 42, 42, 44, 45, 46, 47, 48, 49, 50, 52, 54, 54, 55, 55, 57, 61, 61, 63, 64, 66, 67, 67, 67, 68, 70, 71, 73, 73, 73, 73, 74, 75, 76, 78, 79, 81, 82, 82, 82, 83, 84, 85, 86, 87, 88, 88, 90, 91, 91, 91, 92, 92, 93, 94, 94, 95, 99, 99, 99, 99, 100]\n",
      "[-1, 0, 0, 2, 3, 5, 6, 6, 11, 14, 14, 19, 19, 19, 19, 20, 20, 21, 21, 21, 23, 23, 25, 25, 26, 26, 27, 29, 29, 32, 36, 37, 38, 38, 38, 38, 39, 41, 41, 41, 42, 42, 42, 44, 45, 46, 47, 48, 49, 50, 52, 54, 54, 55, 55, 57, 61, 61, 63, 64, 66, 67, 67, 67, 68, 70, 71, 73, 73, 73, 73, 74, 75, 76, 78, 79, 81, 82, 82, 82, 83, 84, 85, 86, 87, 88, 88, 90, 91, 91, 91, 92, 92, 93, 94, 94, 95, 99, 99, 99, 99, 100, 104]\n",
      "[0, 0, 2, 3, 5, 6, 6, 11, 14, 14, 19, 19, 19, 19, 20, 20, 21, 21, 21, 23, 23, 25, 25, 26, 26, 27, 29, 29, 32, 36, 37, 38, 38, 38, 38, 39, 41, 41, 41, 42, 42, 42, 44, 45, 46, 47, 48, 49, 50, 52, 54, 54, 55, 55, 57, 61, 61, 63, 64, 66, 67, 67, 67, 68, 70, 71, 73, 73, 73, 73, 74, 75, 76, 78, 79, 81, 82, 82, 82, 83, 84, 85, 86, 87, 88, 88, 90, 91, 91, 91, 92, 92, 93, 94, 94, 95, 99, 99, 99, 99, 100, 104]\n",
      "Элемент 15 имеет индекс -1\n"
     ]
    }
   ],
   "source": [
    "interpolated_array = default_sort(init_array)\n",
    "print(interpolated_array)\n",
    "interpolated_array = add_element_interpolated(interpolated_array, -1)\n",
    "interpolated_array = add_element_interpolated(interpolated_array, 6)\n",
    "interpolated_array = add_element_interpolated(interpolated_array, 104)\n",
    "print(interpolated_array)\n",
    "interpolated_array = remove_element_interpolated(interpolated_array, -1)\n",
    "print(interpolated_array)\n",
    "\n",
    "print('Элемент %i имеет индекс %i' % (15, interpolation_search(interpolated_array, 15)))"
   ]
  },
  {
   "cell_type": "markdown",
   "metadata": {},
   "source": [
    "# сравнение скорости поиска"
   ]
  },
  {
   "cell_type": "code",
   "execution_count": 19,
   "metadata": {},
   "outputs": [
    {
     "name": "stdout",
     "output_type": "stream",
     "text": [
      "двоичный поиск   8.699999995087637e-06\n",
      "двоичный поиск   4.200000006449045e-06\n",
      "двоичный поиск   8.199999996350016e-06\n",
      "двоичный поиск   5.000000015797923e-06\n",
      "двоичный поиск   2.8000000042993634e-06\n"
     ]
    }
   ],
   "source": [
    "import timeit\n",
    "our_element = random.randint(0,100)\n",
    "our_array = default_sort(generate_array(100))\n",
    "r = make_binary_tree(our_array)\n",
    "print(\"двоичный поиск   \" + str(timeit.timeit(\"binary_search(binary_search_array, our_element)\", number=1, globals=globals())))\n",
    "print(\"двоичный поиск   \" + str(timeit.timeit(\"binary_tree_search(r, our_element)\", number=1, globals=globals())))\n",
    "print(\"двоичный поиск   \" + str(timeit.timeit(\"fibonacci_search(binary_search_array, our_element)\", number=1, globals=globals())))\n",
    "print(\"двоичный поиск   \" + str(timeit.timeit(\"interpolation_search(binary_search_array, our_element)\", number=1, globals=globals())))\n",
    "print(\"двоичный поиск   \" + str(timeit.timeit(\"our_array.index(our_element)\", number=1, globals=globals())))"
   ]
  },
  {
   "cell_type": "markdown",
   "metadata": {},
   "source": [
    "# ЗАДАНИЕ 2"
   ]
  },
  {
   "cell_type": "markdown",
   "metadata": {},
   "source": [
    "# дополнительный код (для создания объекта с конкретным хешем)"
   ]
  },
  {
   "cell_type": "code",
   "execution_count": 20,
   "metadata": {},
   "outputs": [],
   "source": [
    "\n",
    "class ClassForRehash:\n",
    "    \"\"\"\n",
    "    Класс для наглядных примеров рехэширования\n",
    "    \"\"\"\n",
    "    def __init__(self, value1):\n",
    "        self.value1 = value1\n",
    "\n",
    "    MAX_HASH_TABLE = 8\n",
    "    def __hash__(self):\n",
    "        \"\"\"\n",
    "        Крайне простое хэширование (для наглядности). \\r\\n\n",
    "        Особенность:\n",
    "            -Хеш зависит только от единиц в числе value1 (для удобства создания коллизий)\n",
    "        \"\"\"\n",
    "\n",
    "        return int((((self.value1 % ClassForRehash.MAX_HASH_TABLE) * 331) & 127) % ClassForRehash.MAX_HASH_TABLE)"
   ]
  },
  {
   "cell_type": "markdown",
   "metadata": {},
   "source": [
    "# [простое рехеширование](https://studfile.net/preview/7081338/page:9/)"
   ]
  },
  {
   "cell_type": "code",
   "execution_count": 22,
   "metadata": {},
   "outputs": [],
   "source": [
    "\n",
    "class SimpleRehashTable:\n",
    "\n",
    "    def __init__(self, length):\n",
    "        self.table = [None] * length\n",
    "\n",
    "    def add_el(self, element):\n",
    "        original_hash = element.__hash__()\n",
    "        if self.table[original_hash] is None:\n",
    "            self.table[original_hash] = element\n",
    "            print(\"объект со значением %i имеет хэш: %i (рехеширование не требовалось)\"\n",
    "                  % (self.table[original_hash].value1, original_hash))\n",
    "            return\n",
    "\n",
    "        \"\"\"\"\"\n",
    "        простое рехеширование\n",
    "        \"\"\"\"\"\n",
    "        new_hash = original_hash + 1\n",
    "        while new_hash != original_hash:\n",
    "            if new_hash >= len(self.table):\n",
    "                new_hash = 0\n",
    "                continue\n",
    "            if self.table[new_hash] is None:\n",
    "                self.table[new_hash] = element\n",
    "                print(\"объект со значением %i имеет хэш: %i (рехешировано. коллизия была в хеше: %i)\"\n",
    "                      % (self.table[new_hash].value1, new_hash, original_hash))\n",
    "                return\n",
    "            new_hash += 1\n",
    "        print(\"таблица заполнена!\")\n",
    "        return\n"
   ]
  },
  {
   "cell_type": "markdown",
   "metadata": {},
   "source": [
    "# пример работы"
   ]
  },
  {
   "cell_type": "code",
   "execution_count": 30,
   "metadata": {},
   "outputs": [
    {
     "name": "stdout",
     "output_type": "stream",
     "text": [
      "объект со значением 7 имеет хэш: 5 (рехеширование не требовалось)\n",
      "объект со значением 8 имеет хэш: 0 (рехеширование не требовалось)\n",
      "объект со значением 8 имеет хэш: 1 (рехешировано. коллизия была в хеше: 0)\n",
      "объект со значением 3 имеет хэш: 2 (рехешировано. коллизия была в хеше: 1)\n",
      "объект со значением 2 имеет хэш: 6 (рехеширование не требовалось)\n",
      "объект со значением 0 имеет хэш: 3 (рехешировано. коллизия была в хеше: 0)\n",
      "объект со значением 5 имеет хэш: 7 (рехеширование не требовалось)\n",
      "объект со значением 9 имеет хэш: 4 (рехешировано. коллизия была в хеше: 3)\n",
      "таблица заполнена!\n",
      "таблица заполнена!\n"
     ]
    }
   ],
   "source": [
    "\n",
    "simple_re = SimpleRehashTable(ClassForRehash.MAX_HASH_TABLE)\n",
    "for i in range(len(simple_re.table) + 2):\n",
    "    simple_re.add_el(ClassForRehash(random.randint(0, 9)))"
   ]
  },
  {
   "cell_type": "markdown",
   "metadata": {},
   "source": [
    "# [случайное рехеширование](https://studfile.net/preview/7081338/page:9/)"
   ]
  },
  {
   "cell_type": "code",
   "execution_count": 23,
   "metadata": {},
   "outputs": [],
   "source": [
    "\n",
    "class RandomRehashTable:\n",
    "\n",
    "    def __init__(self, length):\n",
    "        self.table = [None] * length\n",
    "\n",
    "    def add_el(self, element):\n",
    "        original_hash = element.__hash__()\n",
    "        if self.table[original_hash] is None:\n",
    "            self.table[original_hash] = element\n",
    "            print(\"объект со значением %i имеет хэш: %i (рехеширование не требовалось)\"\n",
    "                  % (self.table[original_hash].value1, original_hash))\n",
    "            return\n",
    "\n",
    "        \"\"\"\"\"\n",
    "        случайное рехеширование\n",
    "        \"\"\"\"\"\n",
    "        table_len = len(self.table)\n",
    "        r = 1\n",
    "        for ii in range(10):  # range(число попыток определить новый хеш)\n",
    "            r *= 5\n",
    "            r = r % (4 * table_len)\n",
    "            new_hash = r // 4\n",
    "            if self.table[new_hash] is None:\n",
    "                self.table[new_hash] = element\n",
    "                print(\"объект со значением %i имеет хэш: %i (рехешировано. коллизия была в хеше: %i)\"\n",
    "                      % (self.table[new_hash].value1, new_hash, original_hash))\n",
    "                return\n",
    "        print(\"Не удалось найти свободный хеш в таблице!\")\n",
    "        return"
   ]
  },
  {
   "cell_type": "markdown",
   "metadata": {},
   "source": [
    "# пример работы"
   ]
  },
  {
   "cell_type": "code",
   "execution_count": 32,
   "metadata": {},
   "outputs": [
    {
     "name": "stdout",
     "output_type": "stream",
     "text": [
      "объект со значением 1 имеет хэш: 3 (рехеширование не требовалось)\n",
      "объект со значением 7 имеет хэш: 5 (рехеширование не требовалось)\n",
      "объект со значением 2 имеет хэш: 6 (рехеширование не требовалось)\n",
      "объект со значением 9 имеет хэш: 1 (рехешировано. коллизия была в хеше: 3)\n",
      "объект со значением 3 имеет хэш: 7 (рехешировано. коллизия была в хеше: 1)\n",
      "объект со значением 3 имеет хэш: 4 (рехешировано. коллизия была в хеше: 1)\n",
      "объект со значением 0 имеет хэш: 0 (рехеширование не требовалось)\n",
      "объект со значением 7 имеет хэш: 2 (рехешировано. коллизия была в хеше: 5)\n",
      "Не удалось найти свободный хеш в таблице!\n",
      "Не удалось найти свободный хеш в таблице!\n"
     ]
    }
   ],
   "source": [
    "random_re = RandomRehashTable(ClassForRehash.MAX_HASH_TABLE)\n",
    "for i in range(len(random_re.table) + 2):\n",
    "    random_re.add_el(ClassForRehash(random.randint(0, 9)))"
   ]
  },
  {
   "cell_type": "markdown",
   "metadata": {},
   "source": [
    "# [метод цепочек](https://studfile.net/preview/7081338/page:10/)"
   ]
  },
  {
   "cell_type": "code",
   "execution_count": 24,
   "metadata": {},
   "outputs": [],
   "source": [
    "\n",
    "class ChainRehashTable:\n",
    "\n",
    "    def __init__(self, length):\n",
    "        self.table = [None] * length\n",
    "\n",
    "    def add_el(self, element):\n",
    "        \"\"\"\"\"\n",
    "        метод цепочек\n",
    "        \"\"\"\"\"\n",
    "        original_hash = element.__hash__()\n",
    "        if self.table[original_hash] is None:\n",
    "            self.table[original_hash] = [element]\n",
    "            return\n",
    "        else:\n",
    "            length = len(self.table[original_hash])\n",
    "            self.table[original_hash].append(element)\n",
    "            return"
   ]
  },
  {
   "cell_type": "markdown",
   "metadata": {},
   "source": [
    "# пример работы"
   ]
  },
  {
   "cell_type": "code",
   "execution_count": 34,
   "metadata": {},
   "outputs": [
    {
     "name": "stdout",
     "output_type": "stream",
     "text": [
      "[hash: 0] 0 8 0 \n",
      "[hash: 1] 3 \n",
      "[hash: 2] Empty\n",
      "[hash: 3] 1 \n",
      "[hash: 4] 4 4 \n",
      "[hash: 5] Empty\n",
      "[hash: 6] 2 \n",
      "[hash: 7] 5 5 \n"
     ]
    }
   ],
   "source": [
    "chain_re = ChainRehashTable(ClassForRehash.MAX_HASH_TABLE)\n",
    "for i in range(len(chain_re.table) + 2):\n",
    "    chain_re.add_el(ClassForRehash(random.randint(0, 9)))\n",
    "hash = 0\n",
    "for x in chain_re.table:  # вывод хеш таблицы для метода цепочек\n",
    "    print(\"[hash: %i]\" % hash, end=\" \")\n",
    "    if x is None:\n",
    "        print(\"Empty\")\n",
    "    else:\n",
    "        for y in x:\n",
    "            print(y.value1, end=\" \")\n",
    "        print(\"\")\n",
    "    hash += 1"
   ]
  },
  {
   "cell_type": "code",
   "execution_count": null,
   "metadata": {},
   "outputs": [],
   "source": [
    "#Задание №3\n",
    "#Расставить на стандартной 64-клеточной шахматной доске 8 ферзей так, чтобы ни один из них не находился под\n",
    "#боем другого».Подразумевается, что ферзь бьёт все клетки, расположенные по вертикалям,горизонталям и обеим \n",
    "#диагоналям Написать программу, которая находит хотя бы один способ решения задач"
   ]
  },
  {
   "cell_type": "code",
   "execution_count": 1,
   "metadata": {},
   "outputs": [
    {
     "name": "stdin",
     "output_type": "stream",
     "text": [
      " 7\n"
     ]
    },
    {
     "name": "stdout",
     "output_type": "stream",
     "text": [
      ". Ф . . . . .\n",
      ". . . Ф . . .\n",
      ". . . . . Ф .\n",
      "Ф . . . . . .\n",
      ". . Ф . . . .\n",
      ". . . . Ф . .\n",
      ". . . . . . Ф\n",
      "\n",
      "\n",
      ". . . . . . Ф\n",
      ". . . . Ф . .\n",
      ". . Ф . . . .\n",
      "Ф . . . . . .\n",
      ". . . . . Ф .\n",
      ". . . Ф . . .\n",
      ". Ф . . . . .\n"
     ]
    }
   ],
   "source": [
    "\n",
    "n=int(input())\n",
    "if n%6==2:\n",
    "    even=list(range(1,n,2))\n",
    "    odd=list(range(2,n,2))\n",
    "    odd[1]=0\n",
    "    odd.append(4)\n",
    "elif n%6==3:\n",
    "    even=list(range(3, n, 2))\n",
    "    odd=list(range(4, n, 2))\n",
    "    even.append(1)\n",
    "    odd.append(0)\n",
    "    odd.append(2)\n",
    "else:\n",
    "    even=list(range(1,n,2))\n",
    "    odd=list(range(0,n,2))\n",
    "rez=even+odd\n",
    "row=[\".\"]*n\n",
    "for i in range(n):\n",
    "    j=rez[i]\n",
    "    row[j]=\"Ф\"\n",
    "    print(*row)\n",
    "    row[j]=\".\"\n",
    "i=n-1\n",
    "print(\"\\n\")\n",
    "while i>=0:\n",
    "    j=rez[i]\n",
    "    row[j]=\"Ф\"\n",
    "    print(*row)\n",
    "    row[j]=\".\"\n",
    "    i-=1"
   ]
  },
  {
   "cell_type": "code",
   "execution_count": null,
   "metadata": {},
   "outputs": [],
   "source": [
    "#Вывод\n",
    "Создав матрицу, реализовали методы поиска (бинарный, интерполяционный, фибоначчиев);\n",
    "структурировали работу бинарного дерева: поиска, добавление, удаление; \n",
    "выполнили простое рехэширование, рандомное рехэширование и метод цепочек. \n",
    "Также организовали работу алгоритма по расстановке ферзей."
   ]
  }
 ],
 "metadata": {
  "kernelspec": {
   "display_name": "Python 3",
   "language": "python",
   "name": "python3"
  },
  "language_info": {
   "codemirror_mode": {
    "name": "ipython",
    "version": 3
   },
   "file_extension": ".py",
   "mimetype": "text/x-python",
   "name": "python",
   "nbconvert_exporter": "python",
   "pygments_lexer": "ipython3",
   "version": "3.8.5"
  }
 },
 "nbformat": 4,
 "nbformat_minor": 4
}
